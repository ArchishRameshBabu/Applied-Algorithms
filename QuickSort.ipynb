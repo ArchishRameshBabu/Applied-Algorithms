{
 "cells": [
  {
   "cell_type": "markdown",
   "metadata": {},
   "source": [
    "## Quick Sort"
   ]
  },
  {
   "cell_type": "code",
   "execution_count": 18,
   "metadata": {},
   "outputs": [
    {
     "name": "stdout",
     "output_type": "stream",
     "text": [
      "[1, 11, 11, 13, 13, 14, 14, 20, 23, 26, 27, 27, 29, 31, 32, 33, 34, 40, 42, 45, 45, 46, 49, 50, 52, 56, 60, 63, 64, 69, 71, 73, 79, 79, 80, 82, 85, 86, 91, 91, 93, 97, 97, 99, 99, 100, 100, 104, 106, 106, 108, 111, 112, 114, 115, 117, 119, 123, 123, 124, 128, 133, 133, 135, 140, 142, 144, 147, 152, 153, 154, 154, 154, 156, 157, 161, 163, 163, 165, 165, 168, 169, 170, 171, 171, 176, 177, 178, 179, 182, 182, 183, 185, 185, 186, 191, 192, 192, 199, 199]\n"
     ]
    }
   ],
   "source": [
    "\n",
    "import random\n",
    "file = open('C:/Users/archi/Desktop/lab4_test_sorting.txt', 'r').read().strip()\n",
    "l = file.split(\"\\n\")\n",
    "A = [int(i) for i in l[2:]]\n",
    "\n",
    "\n",
    "def Quick_sort(A,minimum,maximum):\n",
    "    ##n=len(A)\n",
    "    if maximum>minimum:\n",
    "        index = random.randint(minimum,maximum)\n",
    "        tmp=A[index]\n",
    "        A[index]=A[maximum]\n",
    "        A[maximum]=tmp\n",
    "\n",
    "        pivot=A[maximum]\n",
    "        #print(\"Pivot\",pivot)\n",
    "        k=minimum-1\n",
    "        for i in range(minimum,maximum):\n",
    "            if(A[i]<=pivot):\n",
    "                k=k+1\n",
    "                #print(A[i],A[k])\n",
    "                tmp=A[k]\n",
    "                A[k]=A[i]\n",
    "                A[i]=tmp\n",
    "                #print(A)\n",
    "        #print(A)\n",
    "        A[maximum],A[k+1]=A[k+1],A[maximum]\n",
    "        #print(\"k value\",k)\n",
    "        ##print(\"Before Quick\",A)\n",
    "        #print(\"k_value\",k)\n",
    "        Quick_sort(A,minimum,k)\n",
    "        Quick_sort(A,k+2,maximum)\n",
    "    #return(A)\n",
    "    \n",
    "Quick_sort(A,0,len(A)-1)\n",
    "print(A)\n",
    "    \n",
    "with open('C:/Users/archi/Desktop/Quick_sort.txt', 'w') as f:\n",
    "    for item in A:\n",
    "        f.write(\"%s\\n\" % item)\n"
   ]
  },
  {
   "cell_type": "code",
   "execution_count": null,
   "metadata": {},
   "outputs": [],
   "source": []
  }
 ],
 "metadata": {
  "kernelspec": {
   "display_name": "Python 3",
   "language": "python",
   "name": "python3"
  },
  "language_info": {
   "codemirror_mode": {
    "name": "ipython",
    "version": 3
   },
   "file_extension": ".py",
   "mimetype": "text/x-python",
   "name": "python",
   "nbconvert_exporter": "python",
   "pygments_lexer": "ipython3",
   "version": "3.7.1"
  }
 },
 "nbformat": 4,
 "nbformat_minor": 2
}
