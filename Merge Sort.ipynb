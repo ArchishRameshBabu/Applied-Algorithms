{
 "cells": [
  {
   "cell_type": "code",
   "execution_count": 1,
   "metadata": {},
   "outputs": [],
   "source": [
    "import pandas as pd"
   ]
  },
  {
   "cell_type": "code",
   "execution_count": 14,
   "metadata": {},
   "outputs": [],
   "source": [
    "file = open('C:/Users/archi/Desktop/lab3_test_sorting.txt', 'r').read().strip()\n",
    "l = file.split(\"\\n\")\n",
    "A = [int(i) for i in l[1:]]\n",
    "n = len(A)"
   ]
  },
  {
   "cell_type": "code",
   "execution_count": 15,
   "metadata": {},
   "outputs": [
    {
     "data": {
      "text/plain": [
       "[15,\n",
       " 123,\n",
       " 154,\n",
       " 146,\n",
       " 3,\n",
       " 15,\n",
       " 142,\n",
       " 75,\n",
       " 82,\n",
       " 80,\n",
       " 93,\n",
       " 170,\n",
       " 6,\n",
       " 48,\n",
       " 138,\n",
       " 68,\n",
       " 119,\n",
       " 93,\n",
       " 142,\n",
       " 29,\n",
       " 189,\n",
       " 139,\n",
       " 178,\n",
       " 93,\n",
       " 140,\n",
       " 39,\n",
       " 49,\n",
       " 162,\n",
       " 63,\n",
       " 183,\n",
       " 41,\n",
       " 197,\n",
       " 86,\n",
       " 150,\n",
       " 61,\n",
       " 102,\n",
       " 154,\n",
       " 110,\n",
       " 74,\n",
       " 27,\n",
       " 178,\n",
       " 92,\n",
       " 192,\n",
       " 120,\n",
       " 99,\n",
       " 172,\n",
       " 194,\n",
       " 160,\n",
       " 14,\n",
       " 16,\n",
       " 94,\n",
       " 50,\n",
       " 4,\n",
       " 80,\n",
       " 62,\n",
       " 184,\n",
       " 186,\n",
       " 81,\n",
       " 139,\n",
       " 63,\n",
       " 28,\n",
       " 114,\n",
       " 22,\n",
       " 179,\n",
       " 199,\n",
       " 177,\n",
       " 183,\n",
       " 127,\n",
       " 143,\n",
       " 189,\n",
       " 118,\n",
       " 0,\n",
       " 136,\n",
       " 76,\n",
       " 46,\n",
       " 149,\n",
       " 183,\n",
       " 139,\n",
       " 66,\n",
       " 60,\n",
       " 8,\n",
       " 134,\n",
       " 23,\n",
       " 70,\n",
       " 190,\n",
       " 140,\n",
       " 39,\n",
       " 37,\n",
       " 9,\n",
       " 4,\n",
       " 101,\n",
       " 50,\n",
       " 83,\n",
       " 126,\n",
       " 179,\n",
       " 57,\n",
       " 74,\n",
       " 165,\n",
       " 73,\n",
       " 191]"
      ]
     },
     "execution_count": 15,
     "metadata": {},
     "output_type": "execute_result"
    }
   ],
   "source": [
    "A"
   ]
  },
  {
   "cell_type": "code",
   "execution_count": 12,
   "metadata": {},
   "outputs": [],
   "source": [
    "def mergeSort(a, aux, low, high):\n",
    "    if (high - low>1):\n",
    "        mid = int((low + high)/2)\n",
    "        mergeSort(a, aux, low, mid)\n",
    "        mergeSort(a, aux, mid, high)\n",
    "\n",
    "        for l in range(low,high):\n",
    "            aux[l] = a[l]\n",
    "        i = low\n",
    "        j = mid\n",
    "        k = low\n",
    "        while(i < mid and j < high):\n",
    "            if (aux[i] <= aux[j]):\n",
    "                a[k] = aux[i]\n",
    "                k=k+1\n",
    "                i=i+1\n",
    "            else:\n",
    "                a[k] = aux[j]\n",
    "                k=k+1\n",
    "                j=j+1\n",
    "\n",
    "        while(i < mid):\n",
    "            a[k] = aux[i]\n",
    "            k=k+1\n",
    "            i=i+1\n",
    "        while(j < high):\n",
    "            a[k] = aux[j]\n",
    "            k=k+1\n",
    "            j=j+1"
   ]
  },
  {
   "cell_type": "code",
   "execution_count": 20,
   "metadata": {},
   "outputs": [
    {
     "data": {
      "text/plain": [
       "[2, 2, 3, 3, 4, 5, 6, 7, 7, 7, 9]"
      ]
     },
     "execution_count": 20,
     "metadata": {},
     "output_type": "execute_result"
    }
   ],
   "source": [
    "A=[2,2,3,3,4,5,6,7,7,7,9]\n",
    "aux=[0]*len(A)\n",
    "mergeSort(A,aux,0,len(A))\n",
    "A"
   ]
  },
  {
   "cell_type": "code",
   "execution_count": 29,
   "metadata": {},
   "outputs": [
    {
     "data": {
      "text/plain": [
       "[2, 3, 4, 5, 6, 7, 9]"
      ]
     },
     "execution_count": 29,
     "metadata": {},
     "output_type": "execute_result"
    }
   ],
   "source": [
    "final=[]\n",
    "for i in range(len(A)-1):\n",
    "    if(A[i]==A[i+1]):\n",
    "        pass\n",
    "    else:\n",
    "        final.append(A[i])\n",
    "        \n",
    "final.append(A[len(A)-1])\n",
    "final"
   ]
  },
  {
   "cell_type": "code",
   "execution_count": 28,
   "metadata": {},
   "outputs": [
    {
     "data": {
      "text/plain": [
       "11"
      ]
     },
     "execution_count": 28,
     "metadata": {},
     "output_type": "execute_result"
    }
   ],
   "source": [
    "len(A)\n",
    "#A[]"
   ]
  },
  {
   "cell_type": "code",
   "execution_count": 11,
   "metadata": {},
   "outputs": [],
   "source": [
    "with open('C:/Users/archi/Desktop/Merge_sort.txt', 'w') as f:\n",
    "    for item in a:\n",
    "        f.write(\"%s\\n\" % item)"
   ]
  }
 ],
 "metadata": {
  "kernelspec": {
   "display_name": "Python 3",
   "language": "python",
   "name": "python3"
  },
  "language_info": {
   "codemirror_mode": {
    "name": "ipython",
    "version": 3
   },
   "file_extension": ".py",
   "mimetype": "text/x-python",
   "name": "python",
   "nbconvert_exporter": "python",
   "pygments_lexer": "ipython3",
   "version": "3.7.1"
  }
 },
 "nbformat": 4,
 "nbformat_minor": 2
}
