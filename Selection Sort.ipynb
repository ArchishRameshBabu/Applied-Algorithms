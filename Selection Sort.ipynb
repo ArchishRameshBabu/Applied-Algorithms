{
 "cells": [
  {
   "cell_type": "code",
   "execution_count": 1,
   "metadata": {},
   "outputs": [],
   "source": [
    "import pandas as pd"
   ]
  },
  {
   "cell_type": "code",
   "execution_count": 24,
   "metadata": {},
   "outputs": [],
   "source": [
    "data = pd.read_csv(\"C:/Users/archi/Desktop/lab2_test_sorting.txt\",header=None)"
   ]
  },
  {
   "cell_type": "code",
   "execution_count": 25,
   "metadata": {},
   "outputs": [],
   "source": [
    "data=data[0][1:]"
   ]
  },
  {
   "cell_type": "code",
   "execution_count": 26,
   "metadata": {},
   "outputs": [],
   "source": [
    "data=data.values.T.tolist()"
   ]
  },
  {
   "cell_type": "code",
   "execution_count": 27,
   "metadata": {},
   "outputs": [],
   "source": [
    "def selection_sort(A):\n",
    "    n=len(A)\n",
    "    for i in range(n):\n",
    "        mini=i\n",
    "        for j in range(i+1,n):\n",
    "            if A[j] < A[mini]:\n",
    "                mini=j\n",
    "        tmp=A[i]\n",
    "        A[i]=A[mini]\n",
    "        A[mini]=tmp\n",
    "    return(A)"
   ]
  },
  {
   "cell_type": "code",
   "execution_count": 28,
   "metadata": {},
   "outputs": [],
   "source": [
    "Sorted_data=selection_sort(data)"
   ]
  },
  {
   "cell_type": "code",
   "execution_count": 29,
   "metadata": {},
   "outputs": [
    {
     "data": {
      "text/plain": [
       "[1,\n",
       " 1,\n",
       " 4,\n",
       " 7,\n",
       " 8,\n",
       " 10,\n",
       " 12,\n",
       " 13,\n",
       " 14,\n",
       " 16,\n",
       " 21,\n",
       " 24,\n",
       " 25,\n",
       " 26,\n",
       " 28,\n",
       " 28,\n",
       " 29,\n",
       " 33,\n",
       " 35,\n",
       " 38,\n",
       " 40,\n",
       " 40,\n",
       " 42,\n",
       " 49,\n",
       " 51,\n",
       " 53,\n",
       " 58,\n",
       " 63,\n",
       " 65,\n",
       " 66,\n",
       " 67,\n",
       " 68,\n",
       " 69,\n",
       " 72,\n",
       " 72,\n",
       " 73,\n",
       " 78,\n",
       " 78,\n",
       " 82,\n",
       " 85,\n",
       " 90,\n",
       " 91,\n",
       " 92,\n",
       " 94,\n",
       " 97,\n",
       " 98,\n",
       " 98,\n",
       " 99,\n",
       " 101,\n",
       " 103,\n",
       " 103,\n",
       " 103,\n",
       " 105,\n",
       " 105,\n",
       " 108,\n",
       " 109,\n",
       " 109,\n",
       " 112,\n",
       " 115,\n",
       " 116,\n",
       " 117,\n",
       " 122,\n",
       " 123,\n",
       " 123,\n",
       " 124,\n",
       " 127,\n",
       " 129,\n",
       " 130,\n",
       " 130,\n",
       " 133,\n",
       " 133,\n",
       " 135,\n",
       " 136,\n",
       " 136,\n",
       " 137,\n",
       " 144,\n",
       " 144,\n",
       " 144,\n",
       " 145,\n",
       " 149,\n",
       " 149,\n",
       " 152,\n",
       " 153,\n",
       " 157,\n",
       " 157,\n",
       " 160,\n",
       " 165,\n",
       " 166,\n",
       " 167,\n",
       " 169,\n",
       " 177,\n",
       " 179,\n",
       " 179,\n",
       " 181,\n",
       " 187,\n",
       " 188,\n",
       " 193,\n",
       " 194,\n",
       " 195,\n",
       " 196]"
      ]
     },
     "execution_count": 29,
     "metadata": {},
     "output_type": "execute_result"
    }
   ],
   "source": [
    "Sorted_data"
   ]
  },
  {
   "cell_type": "code",
   "execution_count": 30,
   "metadata": {},
   "outputs": [],
   "source": [
    "with open('C:/Users/archi/Desktop/Selection_sort.txt', 'w') as f:\n",
    "    for item in Sorted_data:\n",
    "        f.write(\"%s\\n\" % item)"
   ]
  },
  {
   "cell_type": "code",
   "execution_count": 2,
   "metadata": {},
   "outputs": [],
   "source": [
    "def insertion_sort(A):\n",
    "    n=len(A)\n",
    "    for i in range(1,n):\n",
    "            j=i\n",
    "            while i>=0 and A[j]<A[j-1]:\n",
    "                A[j],A[j-1]=A[j-1],A[j]\n",
    "                j=j-1\n",
    "                print(A)\n",
    "    return(A) "
   ]
  },
  {
   "cell_type": "code",
   "execution_count": 3,
   "metadata": {},
   "outputs": [
    {
     "name": "stdout",
     "output_type": "stream",
     "text": [
      "[11, 21, 22, 222, 5, 2, 3, 9]\n",
      "[11, 21, 22, 5, 222, 2, 3, 9]\n",
      "[11, 21, 5, 22, 222, 2, 3, 9]\n",
      "[11, 5, 21, 22, 222, 2, 3, 9]\n",
      "[5, 11, 21, 22, 222, 2, 3, 9]\n",
      "[9, 11, 21, 22, 222, 2, 3, 5]\n",
      "[9, 11, 21, 22, 2, 222, 3, 5]\n",
      "[9, 11, 21, 2, 22, 222, 3, 5]\n",
      "[9, 11, 2, 21, 22, 222, 3, 5]\n",
      "[9, 2, 11, 21, 22, 222, 3, 5]\n",
      "[2, 9, 11, 21, 22, 222, 3, 5]\n",
      "[5, 9, 11, 21, 22, 222, 3, 2]\n",
      "[5, 9, 11, 21, 22, 222, 2, 3]\n",
      "[5, 9, 11, 21, 22, 2, 222, 3]\n",
      "[5, 9, 11, 21, 2, 22, 222, 3]\n",
      "[5, 9, 11, 2, 21, 22, 222, 3]\n",
      "[5, 9, 2, 11, 21, 22, 222, 3]\n",
      "[5, 2, 9, 11, 21, 22, 222, 3]\n",
      "[2, 5, 9, 11, 21, 22, 222, 3]\n"
     ]
    },
    {
     "ename": "IndexError",
     "evalue": "list index out of range",
     "output_type": "error",
     "traceback": [
      "\u001b[1;31m---------------------------------------------------------------------------\u001b[0m",
      "\u001b[1;31mIndexError\u001b[0m                                Traceback (most recent call last)",
      "\u001b[1;32m<ipython-input-3-ad2ea81b40b9>\u001b[0m in \u001b[0;36m<module>\u001b[1;34m()\u001b[0m\n\u001b[0;32m      1\u001b[0m \u001b[0mdata\u001b[0m\u001b[1;33m=\u001b[0m\u001b[1;33m[\u001b[0m\u001b[1;36m11\u001b[0m\u001b[1;33m,\u001b[0m\u001b[1;36m21\u001b[0m\u001b[1;33m,\u001b[0m\u001b[1;36m222\u001b[0m\u001b[1;33m,\u001b[0m\u001b[1;36m22\u001b[0m\u001b[1;33m,\u001b[0m\u001b[1;36m5\u001b[0m\u001b[1;33m,\u001b[0m\u001b[1;36m2\u001b[0m\u001b[1;33m,\u001b[0m\u001b[1;36m3\u001b[0m\u001b[1;33m,\u001b[0m\u001b[1;36m9\u001b[0m\u001b[1;33m]\u001b[0m\u001b[1;33m\u001b[0m\u001b[0m\n\u001b[1;32m----> 2\u001b[1;33m \u001b[0mSorted_data_insertion_sort\u001b[0m\u001b[1;33m=\u001b[0m\u001b[0minsertion_sort\u001b[0m\u001b[1;33m(\u001b[0m\u001b[0mdata\u001b[0m\u001b[1;33m)\u001b[0m\u001b[1;33m\u001b[0m\u001b[0m\n\u001b[0m\u001b[0;32m      3\u001b[0m \u001b[0mSorted_data_insertion_sort\u001b[0m\u001b[1;33m\u001b[0m\u001b[0m\n",
      "\u001b[1;32m<ipython-input-2-13703b33c127>\u001b[0m in \u001b[0;36minsertion_sort\u001b[1;34m(A)\u001b[0m\n\u001b[0;32m      3\u001b[0m     \u001b[1;32mfor\u001b[0m \u001b[0mi\u001b[0m \u001b[1;32min\u001b[0m \u001b[0mrange\u001b[0m\u001b[1;33m(\u001b[0m\u001b[1;36m1\u001b[0m\u001b[1;33m,\u001b[0m\u001b[0mn\u001b[0m\u001b[1;33m)\u001b[0m\u001b[1;33m:\u001b[0m\u001b[1;33m\u001b[0m\u001b[0m\n\u001b[0;32m      4\u001b[0m             \u001b[0mj\u001b[0m\u001b[1;33m=\u001b[0m\u001b[0mi\u001b[0m\u001b[1;33m\u001b[0m\u001b[0m\n\u001b[1;32m----> 5\u001b[1;33m             \u001b[1;32mwhile\u001b[0m \u001b[0mi\u001b[0m\u001b[1;33m>=\u001b[0m\u001b[1;36m0\u001b[0m \u001b[1;32mand\u001b[0m \u001b[0mA\u001b[0m\u001b[1;33m[\u001b[0m\u001b[0mj\u001b[0m\u001b[1;33m]\u001b[0m\u001b[1;33m<\u001b[0m\u001b[0mA\u001b[0m\u001b[1;33m[\u001b[0m\u001b[0mj\u001b[0m\u001b[1;33m-\u001b[0m\u001b[1;36m1\u001b[0m\u001b[1;33m]\u001b[0m\u001b[1;33m:\u001b[0m\u001b[1;33m\u001b[0m\u001b[0m\n\u001b[0m\u001b[0;32m      6\u001b[0m                 \u001b[0mA\u001b[0m\u001b[1;33m[\u001b[0m\u001b[0mj\u001b[0m\u001b[1;33m]\u001b[0m\u001b[1;33m,\u001b[0m\u001b[0mA\u001b[0m\u001b[1;33m[\u001b[0m\u001b[0mj\u001b[0m\u001b[1;33m-\u001b[0m\u001b[1;36m1\u001b[0m\u001b[1;33m]\u001b[0m\u001b[1;33m=\u001b[0m\u001b[0mA\u001b[0m\u001b[1;33m[\u001b[0m\u001b[0mj\u001b[0m\u001b[1;33m-\u001b[0m\u001b[1;36m1\u001b[0m\u001b[1;33m]\u001b[0m\u001b[1;33m,\u001b[0m\u001b[0mA\u001b[0m\u001b[1;33m[\u001b[0m\u001b[0mj\u001b[0m\u001b[1;33m]\u001b[0m\u001b[1;33m\u001b[0m\u001b[0m\n\u001b[0;32m      7\u001b[0m                 \u001b[0mj\u001b[0m\u001b[1;33m=\u001b[0m\u001b[0mj\u001b[0m\u001b[1;33m-\u001b[0m\u001b[1;36m1\u001b[0m\u001b[1;33m\u001b[0m\u001b[0m\n",
      "\u001b[1;31mIndexError\u001b[0m: list index out of range"
     ]
    }
   ],
   "source": [
    "data=[11,21,222,22,5,2,3,9]\n",
    "Sorted_data_insertion_sort=insertion_sort(data)\n",
    "Sorted_data_insertion_sort"
   ]
  },
  {
   "cell_type": "code",
   "execution_count": 33,
   "metadata": {},
   "outputs": [
    {
     "data": {
      "text/plain": [
       "[1,\n",
       " 1,\n",
       " 4,\n",
       " 7,\n",
       " 8,\n",
       " 10,\n",
       " 12,\n",
       " 13,\n",
       " 14,\n",
       " 16,\n",
       " 21,\n",
       " 24,\n",
       " 25,\n",
       " 26,\n",
       " 28,\n",
       " 28,\n",
       " 29,\n",
       " 33,\n",
       " 35,\n",
       " 38,\n",
       " 40,\n",
       " 40,\n",
       " 42,\n",
       " 49,\n",
       " 51,\n",
       " 53,\n",
       " 58,\n",
       " 63,\n",
       " 65,\n",
       " 66,\n",
       " 67,\n",
       " 68,\n",
       " 69,\n",
       " 72,\n",
       " 72,\n",
       " 73,\n",
       " 78,\n",
       " 78,\n",
       " 82,\n",
       " 85,\n",
       " 90,\n",
       " 91,\n",
       " 92,\n",
       " 94,\n",
       " 97,\n",
       " 98,\n",
       " 98,\n",
       " 99,\n",
       " 101,\n",
       " 103,\n",
       " 103,\n",
       " 103,\n",
       " 105,\n",
       " 105,\n",
       " 108,\n",
       " 109,\n",
       " 109,\n",
       " 112,\n",
       " 115,\n",
       " 116,\n",
       " 117,\n",
       " 122,\n",
       " 123,\n",
       " 123,\n",
       " 124,\n",
       " 127,\n",
       " 129,\n",
       " 130,\n",
       " 130,\n",
       " 133,\n",
       " 133,\n",
       " 135,\n",
       " 136,\n",
       " 136,\n",
       " 137,\n",
       " 144,\n",
       " 144,\n",
       " 144,\n",
       " 145,\n",
       " 149,\n",
       " 149,\n",
       " 152,\n",
       " 153,\n",
       " 157,\n",
       " 157,\n",
       " 160,\n",
       " 165,\n",
       " 166,\n",
       " 167,\n",
       " 169,\n",
       " 177,\n",
       " 179,\n",
       " 179,\n",
       " 181,\n",
       " 187,\n",
       " 188,\n",
       " 193,\n",
       " 194,\n",
       " 195,\n",
       " 196]"
      ]
     },
     "execution_count": 33,
     "metadata": {},
     "output_type": "execute_result"
    }
   ],
   "source": [
    "Sorted_data_insertion_sort"
   ]
  },
  {
   "cell_type": "code",
   "execution_count": 34,
   "metadata": {},
   "outputs": [],
   "source": [
    "with open('C:/Users/archi/Desktop/Insertion_sort.txt', 'w') as f:\n",
    "    for item in Sorted_data_insertion_sort:\n",
    "        f.write(\"%s\\n\" % item)"
   ]
  },
  {
   "cell_type": "code",
   "execution_count": null,
   "metadata": {},
   "outputs": [],
   "source": []
  }
 ],
 "metadata": {
  "kernelspec": {
   "display_name": "Python 3",
   "language": "python",
   "name": "python3"
  },
  "language_info": {
   "codemirror_mode": {
    "name": "ipython",
    "version": 3
   },
   "file_extension": ".py",
   "mimetype": "text/x-python",
   "name": "python",
   "nbconvert_exporter": "python",
   "pygments_lexer": "ipython3",
   "version": "3.7.1"
  }
 },
 "nbformat": 4,
 "nbformat_minor": 2
}
