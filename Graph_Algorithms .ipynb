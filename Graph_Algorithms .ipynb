{
 "cells": [
  {
   "cell_type": "code",
   "execution_count": 1,
   "metadata": {},
   "outputs": [],
   "source": [
    "import queue "
   ]
  },
  {
   "cell_type": "code",
   "execution_count": 2,
   "metadata": {},
   "outputs": [],
   "source": [
    "class GraphNode:\n",
    "    def __init__(self,id_v):\n",
    "        self.id_val=id_v \n",
    "        self.neighbors=[]\n",
    "        self.visited=False\n",
    "        self.distance=0 \n",
    "\n",
    "    def add_neighbor(self,node_id):\n",
    "        self.neighbors.append(node_id)\n",
    "    \n",
    "    def get_neighbors(self): \n",
    "        return self.neighbors"
   ]
  },
  {
   "cell_type": "code",
   "execution_count": 3,
   "metadata": {},
   "outputs": [],
   "source": [
    "file = open('C:/Users/archi/Desktop/lab10_test_bfs.txt', 'r').read().strip()\n",
    "l = file.split(\"\\n\")\n",
    "l2=[]\n",
    "for i in range(len(l)):\n",
    "    l2.append(l[i].split())"
   ]
  },
  {
   "cell_type": "code",
   "execution_count": 4,
   "metadata": {},
   "outputs": [],
   "source": [
    "graph=[]\n",
    "for i in range(50):\n",
    "    graph.append(GraphNode(i))\n",
    "\n",
    "for j in range(len(l2)):\n",
    "    main=int(l2[j][0])\n",
    "    add_node=int(l2[j][1])\n",
    "    graph[main].add_neighbor(add_node)"
   ]
  },
  {
   "cell_type": "code",
   "execution_count": 7,
   "metadata": {},
   "outputs": [],
   "source": [
    "def bfs(graph, source_id, destination_id):\n",
    "    if (source_id == destination_id):\n",
    "        return 0\n",
    "    \n",
    "    for i in graph:\n",
    "        i.visited=False\n",
    "\n",
    "    #// Deal with source node\n",
    "    graph[source_id].visited = True\n",
    "    graph[source_id].distance = 0\n",
    "    q=queue.Queue(maxsize=1000) \n",
    "    q.put(source_id)\n",
    "\n",
    "    while not q.empty():\n",
    "        node_id = q.get()\n",
    "        #print(\"Node id is\",node_id)\n",
    "        cur_distance = graph[node_id].distance\n",
    "        #print(\"Cur_distance\",cur_distance)\n",
    "        for n in graph[node_id].get_neighbors():\n",
    "            #print(\"Node ar n\",n)\n",
    "            \n",
    "            if (graph[n].visited==False):\n",
    "                graph[n].visited = True\n",
    "                graph[n].distance=cur_distance+1\n",
    "                q.put(n)\n",
    "                \n",
    "            if (n == destination_id):\n",
    "                return graph[n].distance\n",
    "    \n",
    "    return -1"
   ]
  },
  {
   "cell_type": "code",
   "execution_count": 8,
   "metadata": {},
   "outputs": [
    {
     "name": "stdout",
     "output_type": "stream",
     "text": [
      "9\n",
      "4\n",
      "-1\n"
     ]
    }
   ],
   "source": [
    "v=bfs(graph,15,38)\n",
    "print(v)\n",
    "\n",
    "v=bfs(graph,23,11)\n",
    "print(v)\n",
    "\n",
    "v=bfs(graph,39,4)\n",
    "print(v)\n"
   ]
  }
 ],
 "metadata": {
  "kernelspec": {
   "display_name": "Python 3",
   "language": "python",
   "name": "python3"
  },
  "language_info": {
   "codemirror_mode": {
    "name": "ipython",
    "version": 3
   },
   "file_extension": ".py",
   "mimetype": "text/x-python",
   "name": "python",
   "nbconvert_exporter": "python",
   "pygments_lexer": "ipython3",
   "version": "3.7.1"
  }
 },
 "nbformat": 4,
 "nbformat_minor": 2
}
