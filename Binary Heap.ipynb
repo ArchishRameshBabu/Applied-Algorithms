{
 "cells": [
  {
   "cell_type": "code",
   "execution_count": 2,
   "metadata": {},
   "outputs": [],
   "source": [
    "class binaryHeap:\n",
    "    heap = []\n",
    "    _size = 0\n",
    "    def __init__(self,A,n):\n",
    "        self.heap = [None] * (n+1)\n",
    "        self._size = n;\n",
    "        for i in range(1,n+1):\n",
    "            self.heap[i] = A[i-1]\n",
    "        #print(self.heap)\n",
    "        j=n\n",
    "        while(j>0):\n",
    "            self.siftDown(j)\n",
    "            j=j-1 \n",
    "            #print(j)\n",
    "        #print(self.heap)\n",
    "    \n",
    "    def siftDown(self,index):\n",
    "        if (index > self._size):\n",
    "            return\n",
    "\n",
    "        left = 2*index\n",
    "        right = left+1\n",
    "        if(left<=self._size and self.heap[left]>self.heap[index]): \n",
    "            self.heap[left],self.heap[index]=self.heap[index],self.heap[left]\n",
    "            self.siftDown(left)\n",
    "\n",
    "        if(right<=self._size and self.heap[right]>self.heap[index]): \n",
    "            self.heap[right],self.heap[index]=self.heap[index],self.heap[right]\n",
    "            self.siftDown(right)\n",
    "\n",
    "    \n",
    "    \n",
    "    def delMax(self):\n",
    "        res=self.heap[1]\n",
    "        self.heap[1],self.heap[self._size]=self.heap[self._size],self.heap[1]\n",
    "        self._size=self._size-1\n",
    "        self.siftDown(1)\n",
    "        return res\n",
    "\n",
    "        "
   ]
  },
  {
   "cell_type": "code",
   "execution_count": 3,
   "metadata": {},
   "outputs": [],
   "source": [
    "file = open('C:/Users/archi/Desktop/lab5_test_heap.txt', 'r').read().strip()\n",
    "l = file.split(\"\\n\")\n",
    "A = [int(i) for i in l[2:]]\n",
    "n = len(A)\n",
    "heap_obj = binaryHeap(A,n)"
   ]
  },
  {
   "cell_type": "code",
   "execution_count": 5,
   "metadata": {},
   "outputs": [
    {
     "data": {
      "text/plain": [
       "[118,\n",
       " 81,\n",
       " 167,\n",
       " 97,\n",
       " 94,\n",
       " 96,\n",
       " 38,\n",
       " 151,\n",
       " 166,\n",
       " 188,\n",
       " 19,\n",
       " 69,\n",
       " 115,\n",
       " 106,\n",
       " 98,\n",
       " 15,\n",
       " 76,\n",
       " 99,\n",
       " 13,\n",
       " 126,\n",
       " 179,\n",
       " 21,\n",
       " 44,\n",
       " 135,\n",
       " 112,\n",
       " 186,\n",
       " 73,\n",
       " 180,\n",
       " 123,\n",
       " 112,\n",
       " 195,\n",
       " 106,\n",
       " 79,\n",
       " 18,\n",
       " 109,\n",
       " 71,\n",
       " 95,\n",
       " 188,\n",
       " 111,\n",
       " 194,\n",
       " 128,\n",
       " 174,\n",
       " 159,\n",
       " 95,\n",
       " 141,\n",
       " 100,\n",
       " 124,\n",
       " 109,\n",
       " 140,\n",
       " 5,\n",
       " 118,\n",
       " 47,\n",
       " 63,\n",
       " 4,\n",
       " 4,\n",
       " 20,\n",
       " 114,\n",
       " 184,\n",
       " 129,\n",
       " 151,\n",
       " 71,\n",
       " 179,\n",
       " 104,\n",
       " 101,\n",
       " 16,\n",
       " 148,\n",
       " 161,\n",
       " 85,\n",
       " 9,\n",
       " 54,\n",
       " 26,\n",
       " 129,\n",
       " 24,\n",
       " 87,\n",
       " 84,\n",
       " 66,\n",
       " 140,\n",
       " 112,\n",
       " 155,\n",
       " 96,\n",
       " 145,\n",
       " 143,\n",
       " 135,\n",
       " 45,\n",
       " 69,\n",
       " 141,\n",
       " 48,\n",
       " 82,\n",
       " 154,\n",
       " 197,\n",
       " 80,\n",
       " 152,\n",
       " 144,\n",
       " 5,\n",
       " 47,\n",
       " 4,\n",
       " 158,\n",
       " 54,\n",
       " 88,\n",
       " 199]"
      ]
     },
     "execution_count": 5,
     "metadata": {},
     "output_type": "execute_result"
    }
   ],
   "source": [
    "A"
   ]
  },
  {
   "cell_type": "code",
   "execution_count": 48,
   "metadata": {},
   "outputs": [],
   "source": [
    "final=[]\n",
    "for i in range(20):\n",
    "    final.append(heap_obj.delMax())"
   ]
  },
  {
   "cell_type": "code",
   "execution_count": 49,
   "metadata": {},
   "outputs": [
    {
     "data": {
      "text/plain": [
       "[199,\n",
       " 197,\n",
       " 195,\n",
       " 194,\n",
       " 188,\n",
       " 188,\n",
       " 186,\n",
       " 184,\n",
       " 180,\n",
       " 179,\n",
       " 179,\n",
       " 174,\n",
       " 167,\n",
       " 166,\n",
       " 161,\n",
       " 159,\n",
       " 158,\n",
       " 155,\n",
       " 154,\n",
       " 152]"
      ]
     },
     "execution_count": 49,
     "metadata": {},
     "output_type": "execute_result"
    }
   ],
   "source": [
    "final"
   ]
  },
  {
   "cell_type": "code",
   "execution_count": 50,
   "metadata": {},
   "outputs": [],
   "source": [
    "with open('C:/Users/archi/Desktop/Heap_Operation.txt', 'w') as f:\n",
    "    for item in final:\n",
    "        f.write(\"%s\\n\" % item)"
   ]
  },
  {
   "cell_type": "code",
   "execution_count": null,
   "metadata": {},
   "outputs": [],
   "source": []
  }
 ],
 "metadata": {
  "kernelspec": {
   "display_name": "Python 3",
   "language": "python",
   "name": "python3"
  },
  "language_info": {
   "codemirror_mode": {
    "name": "ipython",
    "version": 3
   },
   "file_extension": ".py",
   "mimetype": "text/x-python",
   "name": "python",
   "nbconvert_exporter": "python",
   "pygments_lexer": "ipython3",
   "version": "3.7.1"
  }
 },
 "nbformat": 4,
 "nbformat_minor": 2
}
