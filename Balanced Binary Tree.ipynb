{
 "cells": [
  {
   "cell_type": "code",
   "execution_count": 5,
   "metadata": {},
   "outputs": [],
   "source": [
    "class treeNode:\n",
    "    def __init__(self,key,ht):\n",
    "        self.parent=None\n",
    "        self.lc=None\n",
    "        self.rc=None\n",
    "        self.data=key\n",
    "        self.height=ht"
   ]
  },
  {
   "cell_type": "code",
   "execution_count": 6,
   "metadata": {},
   "outputs": [],
   "source": [
    "class RBST:\n",
    "\n",
    "\n",
    "    def insert(self,root,val):\n",
    "        if (root is None):\n",
    "            print(\"No need\")\n",
    "        \n",
    "        \n",
    "        if root.data >= val:\n",
    "            \n",
    "            if (root.lc == None):\n",
    "                \n",
    "                nlc=treeNode(val,0)\n",
    "                nlc.parent = root\n",
    "                root.lc = nlc\n",
    "                self.updateHeight(root)\n",
    "            \n",
    "            else:\n",
    "                self.insert(root.lc, val)\n",
    "        \n",
    "        else:\n",
    "            if (root.rc == None):\n",
    "                \n",
    "                nlc=treeNode(val,0)\n",
    "                nlc.parent = root\n",
    "                root.rc = nlc\n",
    "                self.updateHeight(root)\n",
    "            else:\n",
    "                self.insert(root.rc, val)\n",
    "        \n",
    "    def inorder(self,root):\n",
    "        if root:\n",
    "            self.inorder(root.lc)\n",
    "            print(\"The data values is=\",root.data,\"The height is=\",root.height,\"The parent is=\",root.parent)\n",
    "            self.inorder(root.rc)\n",
    "            \n",
    "    def search(self,root,key):\n",
    "        if root is None:\n",
    "            return None\n",
    "        if root.data==key:\n",
    "            return root\n",
    "        elif root.data<key:\n",
    "            return(self.search(root.rc,key))\n",
    "        else:\n",
    "            return(self.search(root.lc,key))\n",
    "        \n",
    "        \n",
    "        \n",
    "    def updateHeight(self,root):\n",
    "        if (root == None):\n",
    "            return \"No Height\"\n",
    "\n",
    "        oldHeight = root.height\n",
    "        if(root.lc is None):\n",
    "            lc_ht=0\n",
    "        else:\n",
    "            lc_ht=root.lc.height\n",
    "        \n",
    "        if(root.rc is None):\n",
    "            rc_ht=0\n",
    "        else:\n",
    "            rc_ht=root.rc.height\n",
    "        \n",
    "        newHeight = 1 + max(lc_ht,rc_ht)\n",
    "\n",
    "        if (oldHeight == newHeight):\n",
    "            return\n",
    "        else:\n",
    "            root.height = newHeight\n",
    "            self.updateHeight(root.parent)\n",
    "            \n",
    "    def rotate(self,x,root):\n",
    "        if (x == root):\n",
    "            return root\n",
    "        elif (x==x.parent.rc):\n",
    "            return(self.rotate_left(x,root))\n",
    "        else:\n",
    "            return(self.rotate_right(x,root))\n",
    "            \n",
    "    def rotate_right(self,x,root):\n",
    "        y = x.parent\n",
    "        z = x.rc\n",
    "        yParent = y.parent\n",
    "\n",
    "        if (yParent is None):\n",
    "            root=x\n",
    "        elif(yParent.lc == y):\n",
    "                yParent.lc = x\n",
    "        else:\n",
    "            yParent.rc = x\n",
    "\n",
    "        x.parent = yParent\n",
    "        x.rc = y\n",
    "\n",
    "        y.parent = x\n",
    "        y.lc = z\n",
    "\n",
    "        if (z is not None):\n",
    "            z.parent = y\n",
    "\n",
    "        self.updateHeight(x)\n",
    "        self.updateHeight(y)\n",
    "        return(root)\n",
    "        \n",
    "    def rotate_left(self,x,root):\n",
    "        y = x.parent\n",
    "        z = x.lc\n",
    "        yParent = y.parent\n",
    "\n",
    "        if (yParent is None):\n",
    "            root=x\n",
    "        elif(yParent.rc == y):\n",
    "                yParent.rc = x\n",
    "        else:\n",
    "            yParent.lc = x\n",
    "\n",
    "        x.parent = yParent\n",
    "        x.lc = y\n",
    "\n",
    "        y.parent = x\n",
    "        y.rc = z\n",
    "\n",
    "        if (z is not None):\n",
    "            z.parent = y\n",
    "\n",
    "        self.updateHeight(x)\n",
    "        self.updateHeight(y)\n",
    "        return(root)\n",
    "\n",
    "        "
   ]
  },
  {
   "cell_type": "code",
   "execution_count": 7,
   "metadata": {},
   "outputs": [],
   "source": [
    "file = open('C:/Users/archi/Desktop/lab7_test_RBST.txt', 'r').read().strip()\n",
    "l = file.split(\"\\n\")\n",
    "A = [int(i) for i in l[2:]]\n",
    "n = len(A)"
   ]
  },
  {
   "cell_type": "code",
   "execution_count": 8,
   "metadata": {},
   "outputs": [],
   "source": [
    "rbst=RBST()\n",
    "root = treeNode(A[0],0)\n",
    "for element in A:\n",
    "    rbst.insert(root, element)"
   ]
  },
  {
   "cell_type": "code",
   "execution_count": 9,
   "metadata": {},
   "outputs": [
    {
     "data": {
      "text/plain": [
       "12"
      ]
     },
     "execution_count": 9,
     "metadata": {},
     "output_type": "execute_result"
    }
   ],
   "source": [
    "root.height"
   ]
  },
  {
   "cell_type": "code",
   "execution_count": 15,
   "metadata": {
    "scrolled": true
   },
   "outputs": [
    {
     "name": "stdout",
     "output_type": "stream",
     "text": [
      "Parent is <__main__.treeNode object at 0x000001D2E4077E10>\n",
      "Value is 0\n",
      "Height is 6\n",
      "Parent is <__main__.treeNode object at 0x000001D2E4077400>\n",
      "Value is 10\n",
      "Height is 8\n",
      "Parent is <__main__.treeNode object at 0x000001D2E4077C18>\n",
      "Value is 20\n",
      "Height is 0\n",
      "Parent is <__main__.treeNode object at 0x000001D2E40771D0>\n",
      "Value is 30\n",
      "Height is 4\n",
      "Parent is <__main__.treeNode object at 0x000001D2E4077240>\n",
      "Value is 40\n",
      "Height is 2\n",
      "Parent is <__main__.treeNode object at 0x000001D2E40650F0>\n",
      "Value is 50\n",
      "Height is 11\n",
      "Parent is <__main__.treeNode object at 0x000001D2E4065470>\n",
      "Value is 60\n",
      "Height is 8\n",
      "Parent is <__main__.treeNode object at 0x000001D2E40770F0>\n",
      "Value is 70\n",
      "Height is 1\n",
      "Parent is <__main__.treeNode object at 0x000001D2E4077E48>\n",
      "Value is 80\n",
      "Height is 7\n",
      "Parent is <__main__.treeNode object at 0x000001D2E4065D68>\n",
      "Value is 90\n",
      "Height is 5\n"
     ]
    }
   ],
   "source": [
    "B = [0,10,20, 30, 40, 50, 60, 70, 80, 90,1000]\n",
    "#B = [1,2,3,4]\n",
    "for element in B:\n",
    "    tn= rbst.search(root, element)\n",
    "    \n",
    "    if (tn != None):\n",
    "        print(\"Parent is\",tn.parent)\n",
    "        print(\"Value is\",tn.data)\n",
    "        print(\"Height is\",tn.height)\n",
    "        root = rbst.rotate(tn,root)"
   ]
  },
  {
   "cell_type": "code",
   "execution_count": 20,
   "metadata": {},
   "outputs": [
    {
     "name": "stdout",
     "output_type": "stream",
     "text": [
      "The data values is= 0 The height is= 6 The parent is= <__main__.treeNode object at 0x000001D2E4077E10>\n",
      "The data values is= 1 The height is= 1 The parent is= <__main__.treeNode object at 0x000001D2E40775F8>\n",
      "The data values is= 2 The height is= 0 The parent is= <__main__.treeNode object at 0x000001D2E40778D0>\n",
      "The data values is= 3 The height is= 4 The parent is= <__main__.treeNode object at 0x000001D2E40770B8>\n",
      "The data values is= 4 The height is= 3 The parent is= <__main__.treeNode object at 0x000001D2E40775F8>\n",
      "The data values is= 5 The height is= 2 The parent is= <__main__.treeNode object at 0x000001D2E4077748>\n",
      "The data values is= 6 The height is= 0 The parent is= <__main__.treeNode object at 0x000001D2E4077A20>\n",
      "The data values is= 7 The height is= 1 The parent is= <__main__.treeNode object at 0x000001D2E40779E8>\n",
      "The data values is= 8 The height is= 0 The parent is= <__main__.treeNode object at 0x000001D2E4077A20>\n",
      "The data values is= 9 The height is= 5 The parent is= <__main__.treeNode object at 0x000001D2E4077400>\n",
      "The data values is= 10 The height is= 10 The parent is= <__main__.treeNode object at 0x000001D2E4065160>\n",
      "The data values is= 11 The height is= 2 The parent is= <__main__.treeNode object at 0x000001D2E4077438>\n",
      "The data values is= 12 The height is= 1 The parent is= <__main__.treeNode object at 0x000001D2E4077128>\n",
      "The data values is= 13 The height is= 0 The parent is= <__main__.treeNode object at 0x000001D2E4077940>\n",
      "The data values is= 14 The height is= 7 The parent is= <__main__.treeNode object at 0x000001D2E40771D0>\n",
      "The data values is= 15 The height is= 1 The parent is= <__main__.treeNode object at 0x000001D2E4077550>\n",
      "The data values is= 16 The height is= 0 The parent is= <__main__.treeNode object at 0x000001D2E4077668>\n",
      "The data values is= 17 The height is= 5 The parent is= <__main__.treeNode object at 0x000001D2E40772E8>\n",
      "The data values is= 18 The height is= 0 The parent is= <__main__.treeNode object at 0x000001D2E4077BE0>\n",
      "The data values is= 19 The height is= 3 The parent is= <__main__.treeNode object at 0x000001D2E40777B8>\n",
      "The data values is= 20 The height is= 2 The parent is= <__main__.treeNode object at 0x000001D2E4077BE0>\n",
      "The data values is= 21 The height is= 1 The parent is= <__main__.treeNode object at 0x000001D2E407D128>\n",
      "The data values is= 22 The height is= 4 The parent is= <__main__.treeNode object at 0x000001D2E4077550>\n",
      "The data values is= 23 The height is= 6 The parent is= <__main__.treeNode object at 0x000001D2E4077438>\n",
      "The data values is= 24 The height is= 2 The parent is= <__main__.treeNode object at 0x000001D2E40772E8>\n",
      "The data values is= 25 The height is= 0 The parent is= <__main__.treeNode object at 0x000001D2E4077710>\n",
      "The data values is= 26 The height is= 1 The parent is= <__main__.treeNode object at 0x000001D2E4077198>\n",
      "The data values is= 27 The height is= 0 The parent is= <__main__.treeNode object at 0x000001D2E4077710>\n",
      "The data values is= 28 The height is= 8 The parent is= <__main__.treeNode object at 0x000001D2E40774A8>\n",
      "The data values is= 29 The height is= 0 The parent is= <__main__.treeNode object at 0x000001D2E40771D0>\n",
      "The data values is= 30 The height is= 9 The parent is= <__main__.treeNode object at 0x000001D2E4077E10>\n",
      "The data values is= 31 The height is= 2 The parent is= <__main__.treeNode object at 0x000001D2E40774E0>\n",
      "The data values is= 32 The height is= 0 The parent is= <__main__.treeNode object at 0x000001D2E4077CC0>\n",
      "The data values is= 33 The height is= 1 The parent is= <__main__.treeNode object at 0x000001D2E4077780>\n",
      "The data values is= 34 The height is= 3 The parent is= <__main__.treeNode object at 0x000001D2E40774A8>\n",
      "The data values is= 35 The height is= 1 The parent is= <__main__.treeNode object at 0x000001D2E40774E0>\n",
      "The data values is= 36 The height is= 0 The parent is= <__main__.treeNode object at 0x000001D2E4077898>\n",
      "The data values is= 37 The height is= 11 The parent is= <__main__.treeNode object at 0x000001D2E40650F0>\n",
      "The data values is= 37 The height is= 12 The parent is= <__main__.treeNode object at 0x000001D2E4065D30>\n",
      "The data values is= 38 The height is= 1 The parent is= <__main__.treeNode object at 0x000001D2E4077518>\n",
      "The data values is= 39 The height is= 0 The parent is= <__main__.treeNode object at 0x000001D2E4077240>\n",
      "The data values is= 40 The height is= 2 The parent is= <__main__.treeNode object at 0x000001D2E4065240>\n",
      "The data values is= 41 The height is= 0 The parent is= <__main__.treeNode object at 0x000001D2E4077A58>\n",
      "The data values is= 42 The height is= 1 The parent is= <__main__.treeNode object at 0x000001D2E4077518>\n",
      "The data values is= 43 The height is= 3 The parent is= <__main__.treeNode object at 0x000001D2E40650F0>\n",
      "The data values is= 44 The height is= 0 The parent is= <__main__.treeNode object at 0x000001D2E4077F60>\n",
      "The data values is= 45 The height is= 1 The parent is= <__main__.treeNode object at 0x000001D2E4077278>\n",
      "The data values is= 46 The height is= 2 The parent is= <__main__.treeNode object at 0x000001D2E4065240>\n",
      "The data values is= 47 The height is= 0 The parent is= <__main__.treeNode object at 0x000001D2E4077828>\n",
      "The data values is= 48 The height is= 1 The parent is= <__main__.treeNode object at 0x000001D2E4077278>\n",
      "The data values is= 49 The height is= 0 The parent is= <__main__.treeNode object at 0x000001D2E4077828>\n",
      "The data values is= 50 The height is= 13 The parent is= None\n",
      "The data values is= 51 The height is= 0 The parent is= <__main__.treeNode object at 0x000001D2E4065470>\n",
      "The data values is= 52 The height is= 5 The parent is= <__main__.treeNode object at 0x000001D2E4077E48>\n",
      "The data values is= 53 The height is= 0 The parent is= <__main__.treeNode object at 0x000001D2E4077320>\n",
      "The data values is= 54 The height is= 4 The parent is= <__main__.treeNode object at 0x000001D2E4065470>\n",
      "The data values is= 55 The height is= 3 The parent is= <__main__.treeNode object at 0x000001D2E4077320>\n",
      "The data values is= 56 The height is= 0 The parent is= <__main__.treeNode object at 0x000001D2E4077A90>\n",
      "The data values is= 57 The height is= 2 The parent is= <__main__.treeNode object at 0x000001D2E4077208>\n",
      "The data values is= 58 The height is= 1 The parent is= <__main__.treeNode object at 0x000001D2E4077A90>\n",
      "The data values is= 59 The height is= 0 The parent is= <__main__.treeNode object at 0x000001D2E4077D68>\n",
      "The data values is= 60 The height is= 7 The parent is= <__main__.treeNode object at 0x000001D2E4077DA0>\n",
      "The data values is= 61 The height is= 0 The parent is= <__main__.treeNode object at 0x000001D2E4077BA8>\n",
      "The data values is= 62 The height is= 1 The parent is= <__main__.treeNode object at 0x000001D2E4077390>\n",
      "The data values is= 63 The height is= 0 The parent is= <__main__.treeNode object at 0x000001D2E4077BA8>\n",
      "The data values is= 64 The height is= 6 The parent is= <__main__.treeNode object at 0x000001D2E4077E48>\n",
      "The data values is= 65 The height is= 0 The parent is= <__main__.treeNode object at 0x000001D2E40777F0>\n",
      "The data values is= 66 The height is= 1 The parent is= <__main__.treeNode object at 0x000001D2E40772B0>\n",
      "The data values is= 67 The height is= 0 The parent is= <__main__.treeNode object at 0x000001D2E40777F0>\n",
      "The data values is= 68 The height is= 4 The parent is= <__main__.treeNode object at 0x000001D2E4077358>\n",
      "The data values is= 69 The height is= 0 The parent is= <__main__.treeNode object at 0x000001D2E4077630>\n",
      "The data values is= 70 The height is= 2 The parent is= <__main__.treeNode object at 0x000001D2E4077160>\n",
      "The data values is= 71 The height is= 0 The parent is= <__main__.treeNode object at 0x000001D2E40770F0>\n",
      "The data values is= 72 The height is= 1 The parent is= <__main__.treeNode object at 0x000001D2E4077630>\n",
      "The data values is= 73 The height is= 3 The parent is= <__main__.treeNode object at 0x000001D2E40772B0>\n",
      "The data values is= 74 The height is= 2 The parent is= <__main__.treeNode object at 0x000001D2E4077160>\n",
      "The data values is= 75 The height is= 0 The parent is= <__main__.treeNode object at 0x000001D2E407D550>\n",
      "The data values is= 76 The height is= 1 The parent is= <__main__.treeNode object at 0x000001D2E4077DD8>\n",
      "The data values is= 77 The height is= 0 The parent is= <__main__.treeNode object at 0x000001D2E407D550>\n",
      "The data values is= 78 The height is= 5 The parent is= <__main__.treeNode object at 0x000001D2E4077390>\n",
      "The data values is= 79 The height is= 0 The parent is= <__main__.treeNode object at 0x000001D2E4077358>\n",
      "The data values is= 80 The height is= 8 The parent is= <__main__.treeNode object at 0x000001D2E4065D68>\n",
      "The data values is= 81 The height is= 0 The parent is= <__main__.treeNode object at 0x000001D2E4077908>\n",
      "The data values is= 82 The height is= 2 The parent is= <__main__.treeNode object at 0x000001D2E4077048>\n",
      "The data values is= 83 The height is= 0 The parent is= <__main__.treeNode object at 0x000001D2E4077C88>\n",
      "The data values is= 84 The height is= 1 The parent is= <__main__.treeNode object at 0x000001D2E4077908>\n",
      "The data values is= 85 The height is= 3 The parent is= <__main__.treeNode object at 0x000001D2E4077DA0>\n",
      "The data values is= 86 The height is= 0 The parent is= <__main__.treeNode object at 0x000001D2E4077048>\n",
      "The data values is= 87 The height is= 9 The parent is= <__main__.treeNode object at 0x000001D2E40773C8>\n",
      "The data values is= 88 The height is= 1 The parent is= <__main__.treeNode object at 0x000001D2E4065D68>\n",
      "The data values is= 89 The height is= 0 The parent is= <__main__.treeNode object at 0x000001D2E4077080>\n",
      "The data values is= 90 The height is= 10 The parent is= <__main__.treeNode object at 0x000001D2E4065D30>\n",
      "The data values is= 91 The height is= 0 The parent is= <__main__.treeNode object at 0x000001D2E4077470>\n",
      "The data values is= 92 The height is= 4 The parent is= <__main__.treeNode object at 0x000001D2E40773C8>\n",
      "The data values is= 93 The height is= 0 The parent is= <__main__.treeNode object at 0x000001D2E407D320>\n",
      "The data values is= 94 The height is= 1 The parent is= <__main__.treeNode object at 0x000001D2E4077EF0>\n",
      "The data values is= 95 The height is= 2 The parent is= <__main__.treeNode object at 0x000001D2E4077588>\n",
      "The data values is= 96 The height is= 3 The parent is= <__main__.treeNode object at 0x000001D2E4077470>\n",
      "The data values is= 97 The height is= 0 The parent is= <__main__.treeNode object at 0x000001D2E40775C0>\n",
      "The data values is= 98 The height is= 1 The parent is= <__main__.treeNode object at 0x000001D2E4077588>\n",
      "The data values is= 99 The height is= 0 The parent is= <__main__.treeNode object at 0x000001D2E40775C0>\n"
     ]
    }
   ],
   "source": [
    "rbst.inorder(root)"
   ]
  },
  {
   "cell_type": "code",
   "execution_count": 16,
   "metadata": {},
   "outputs": [
    {
     "data": {
      "text/plain": [
       "50"
      ]
     },
     "execution_count": 16,
     "metadata": {},
     "output_type": "execute_result"
    }
   ],
   "source": [
    "root.data"
   ]
  },
  {
   "cell_type": "code",
   "execution_count": 17,
   "metadata": {},
   "outputs": [
    {
     "data": {
      "text/plain": [
       "13"
      ]
     },
     "execution_count": 17,
     "metadata": {},
     "output_type": "execute_result"
    }
   ],
   "source": [
    "root.height"
   ]
  },
  {
   "cell_type": "code",
   "execution_count": 8,
   "metadata": {},
   "outputs": [],
   "source": [
    "rbst=RBST()\n",
    "root = treeNode(0,0)\n",
    "for element in range(1,100):\n",
    "    rbst.insert(root, element)"
   ]
  },
  {
   "cell_type": "code",
   "execution_count": 9,
   "metadata": {},
   "outputs": [],
   "source": [
    "B = [0,10,20, 30, 40, 50, 60, 70, 80, 90]\n",
    "for element in B:\n",
    "    tn= rbst.search(root, element)\n",
    "    \n",
    "    if (tn != None):\n",
    "        root = rbst.rotate(tn,root)"
   ]
  },
  {
   "cell_type": "code",
   "execution_count": 10,
   "metadata": {},
   "outputs": [
    {
     "data": {
      "text/plain": [
       "0"
      ]
     },
     "execution_count": 10,
     "metadata": {},
     "output_type": "execute_result"
    }
   ],
   "source": [
    "root.data"
   ]
  },
  {
   "cell_type": "code",
   "execution_count": 11,
   "metadata": {},
   "outputs": [
    {
     "data": {
      "text/plain": [
       "90"
      ]
     },
     "execution_count": 11,
     "metadata": {},
     "output_type": "execute_result"
    }
   ],
   "source": [
    "root.height"
   ]
  }
 ],
 "metadata": {
  "kernelspec": {
   "display_name": "Python 3",
   "language": "python",
   "name": "python3"
  },
  "language_info": {
   "codemirror_mode": {
    "name": "ipython",
    "version": 3
   },
   "file_extension": ".py",
   "mimetype": "text/x-python",
   "name": "python",
   "nbconvert_exporter": "python",
   "pygments_lexer": "ipython3",
   "version": "3.7.1"
  }
 },
 "nbformat": 4,
 "nbformat_minor": 2
}
